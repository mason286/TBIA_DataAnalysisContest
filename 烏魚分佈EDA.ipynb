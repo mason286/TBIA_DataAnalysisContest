{
 "cells": [
  {
   "cell_type": "code",
   "execution_count": 3,
   "id": "2a598c81",
   "metadata": {},
   "outputs": [],
   "source": [
    "import pandas as pd\n",
    "pd.set_option('display.max_columns',None)"
   ]
  },
  {
   "cell_type": "code",
   "execution_count": 4,
   "id": "a415d0ac",
   "metadata": {},
   "outputs": [],
   "source": [
    "df=pd.read_csv('Mugil.csv')"
   ]
  },
  {
   "cell_type": "code",
   "execution_count": 5,
   "id": "4e3c8108",
   "metadata": {},
   "outputs": [
    {
     "data": {
      "text/plain": [
       "Index(['id', 'created', 'modified', 'standardDate', 'standardLatitude',\n",
       "       'standardLongitude', 'standardOrganismQuantity', 'associatedMedia',\n",
       "       'basisOfRecord', 'catalogNumber', 'coordinatePrecision',\n",
       "       'coordinateUncertaintyInMeters', 'dataGeneralizations', 'datasetName',\n",
       "       'eventDate', 'license', 'locality', 'mediaLicense', 'occurrenceID',\n",
       "       'organismQuantity', 'organismQuantityType', 'originalScientificName',\n",
       "       'preservation', 'recordedBy', 'recordNumber', 'references',\n",
       "       'resourceContacts', 'rightsHolder', 'sensitiveCategory',\n",
       "       'sourceCreated', 'sourceModified', 'sourceScientificName',\n",
       "       'sourceVernacularName', 'typeStatus', 'verbatimCoordinateSystem',\n",
       "       'verbatimLatitude', 'verbatimLongitude', 'verbatimSRS',\n",
       "       'scientificNameID', 'taxonID', 'match_higher_taxon', 'scientificName',\n",
       "       'name_author', 'taxonRank', 'common_name_c', 'alternative_name_c',\n",
       "       'synonyms', 'misapplied', 'kingdom', 'kingdom_c', 'phylum', 'phylum_c',\n",
       "       'class', 'class_c', 'order', 'order_c', 'family', 'family_c', 'genus',\n",
       "       'genus_c'],\n",
       "      dtype='object')"
      ]
     },
     "execution_count": 5,
     "metadata": {},
     "output_type": "execute_result"
    }
   ],
   "source": [
    "df.columns"
   ]
  },
  {
   "cell_type": "code",
   "execution_count": 6,
   "id": "6b6f4440",
   "metadata": {},
   "outputs": [
    {
     "data": {
      "text/html": [
       "<div>\n",
       "<style scoped>\n",
       "    .dataframe tbody tr th:only-of-type {\n",
       "        vertical-align: middle;\n",
       "    }\n",
       "\n",
       "    .dataframe tbody tr th {\n",
       "        vertical-align: top;\n",
       "    }\n",
       "\n",
       "    .dataframe thead th {\n",
       "        text-align: right;\n",
       "    }\n",
       "</style>\n",
       "<table border=\"1\" class=\"dataframe\">\n",
       "  <thead>\n",
       "    <tr style=\"text-align: right;\">\n",
       "      <th></th>\n",
       "      <th>id</th>\n",
       "      <th>created</th>\n",
       "      <th>standardDate</th>\n",
       "      <th>standardLatitude</th>\n",
       "      <th>standardLongitude</th>\n",
       "      <th>standardOrganismQuantity</th>\n",
       "      <th>eventDate</th>\n",
       "      <th>locality</th>\n",
       "      <th>organismQuantityType</th>\n",
       "      <th>scientificName</th>\n",
       "      <th>common_name_c</th>\n",
       "      <th>alternative_name_c</th>\n",
       "      <th>basisOfRecord</th>\n",
       "    </tr>\n",
       "  </thead>\n",
       "  <tbody>\n",
       "    <tr>\n",
       "      <th>0</th>\n",
       "      <td>65aaa794666d7900c80e141f</td>\n",
       "      <td>2024-01-19T23:46:50.212Z</td>\n",
       "      <td>2023-05-24T00:00:00Z</td>\n",
       "      <td>23.558777</td>\n",
       "      <td>120.16397</td>\n",
       "      <td>7.0</td>\n",
       "      <td>20230524</td>\n",
       "      <td>成龍重要濕地</td>\n",
       "      <td>隻</td>\n",
       "      <td>Chelon affinis</td>\n",
       "      <td>前鱗龜鮻</td>\n",
       "      <td>豆仔魚,烏仔,烏仔魚,烏魚,前鱗鮻</td>\n",
       "      <td>NaN</td>\n",
       "    </tr>\n",
       "    <tr>\n",
       "      <th>1</th>\n",
       "      <td>65aaa794666d7900c80e1425</td>\n",
       "      <td>2024-01-19T23:46:50.212Z</td>\n",
       "      <td>2023-05-24T00:00:00Z</td>\n",
       "      <td>23.553722</td>\n",
       "      <td>120.16397</td>\n",
       "      <td>5.0</td>\n",
       "      <td>20230524</td>\n",
       "      <td>成龍重要濕地</td>\n",
       "      <td>隻</td>\n",
       "      <td>Chelon affinis</td>\n",
       "      <td>前鱗龜鮻</td>\n",
       "      <td>豆仔魚,烏仔,烏仔魚,烏魚,前鱗鮻</td>\n",
       "      <td>NaN</td>\n",
       "    </tr>\n",
       "    <tr>\n",
       "      <th>2</th>\n",
       "      <td>65aaa794666d7900c80e1432</td>\n",
       "      <td>2024-01-19T23:46:50.212Z</td>\n",
       "      <td>2023-08-09T00:00:00Z</td>\n",
       "      <td>23.558777</td>\n",
       "      <td>120.16397</td>\n",
       "      <td>1.0</td>\n",
       "      <td>20230809</td>\n",
       "      <td>成龍重要濕地</td>\n",
       "      <td>隻</td>\n",
       "      <td>Chelon affinis</td>\n",
       "      <td>前鱗龜鮻</td>\n",
       "      <td>豆仔魚,烏仔,烏仔魚,烏魚,前鱗鮻</td>\n",
       "      <td>NaN</td>\n",
       "    </tr>\n",
       "    <tr>\n",
       "      <th>3</th>\n",
       "      <td>65aaa795666d7900c80e14ab</td>\n",
       "      <td>2024-01-19T23:46:50.212Z</td>\n",
       "      <td>2023-03-16T00:00:00Z</td>\n",
       "      <td>23.539888</td>\n",
       "      <td>120.14488</td>\n",
       "      <td>2.0</td>\n",
       "      <td>20230316</td>\n",
       "      <td>椬梧重要濕地</td>\n",
       "      <td>隻</td>\n",
       "      <td>Chelon affinis</td>\n",
       "      <td>前鱗龜鮻</td>\n",
       "      <td>豆仔魚,烏仔,烏仔魚,烏魚,前鱗鮻</td>\n",
       "      <td>NaN</td>\n",
       "    </tr>\n",
       "    <tr>\n",
       "      <th>4</th>\n",
       "      <td>65aaa795666d7900c80e14b4</td>\n",
       "      <td>2024-01-19T23:46:50.212Z</td>\n",
       "      <td>2023-05-24T00:00:00Z</td>\n",
       "      <td>23.530111</td>\n",
       "      <td>120.14844</td>\n",
       "      <td>4.0</td>\n",
       "      <td>20230524</td>\n",
       "      <td>椬梧重要濕地</td>\n",
       "      <td>隻</td>\n",
       "      <td>Chelon affinis</td>\n",
       "      <td>前鱗龜鮻</td>\n",
       "      <td>豆仔魚,烏仔,烏仔魚,烏魚,前鱗鮻</td>\n",
       "      <td>NaN</td>\n",
       "    </tr>\n",
       "    <tr>\n",
       "      <th>...</th>\n",
       "      <td>...</td>\n",
       "      <td>...</td>\n",
       "      <td>...</td>\n",
       "      <td>...</td>\n",
       "      <td>...</td>\n",
       "      <td>...</td>\n",
       "      <td>...</td>\n",
       "      <td>...</td>\n",
       "      <td>...</td>\n",
       "      <td>...</td>\n",
       "      <td>...</td>\n",
       "      <td>...</td>\n",
       "      <td>...</td>\n",
       "    </tr>\n",
       "    <tr>\n",
       "      <th>4934</th>\n",
       "      <td>6452510cd9db0801d6ba3917</td>\n",
       "      <td>2023-05-03T12:18:20.535Z</td>\n",
       "      <td>2015-11-16T00:00:00Z</td>\n",
       "      <td>23.143400</td>\n",
       "      <td>120.08580</td>\n",
       "      <td>1.0</td>\n",
       "      <td>2015-11-16</td>\n",
       "      <td>台南市七股區</td>\n",
       "      <td>NaN</td>\n",
       "      <td>Planiliza subviridis</td>\n",
       "      <td>綠背鮻</td>\n",
       "      <td>綠背龜鮻,豆仔魚,烏仔,烏仔魚,烏魚,白鮻</td>\n",
       "      <td>Occurrence</td>\n",
       "    </tr>\n",
       "    <tr>\n",
       "      <th>4935</th>\n",
       "      <td>6452510cd9db0801d6ba3918</td>\n",
       "      <td>2023-05-03T12:18:20.536Z</td>\n",
       "      <td>2015-11-16T00:00:00Z</td>\n",
       "      <td>23.143400</td>\n",
       "      <td>120.08580</td>\n",
       "      <td>1.0</td>\n",
       "      <td>2015-11-16</td>\n",
       "      <td>台南市七股區</td>\n",
       "      <td>NaN</td>\n",
       "      <td>Planiliza subviridis</td>\n",
       "      <td>綠背鮻</td>\n",
       "      <td>綠背龜鮻,豆仔魚,烏仔,烏仔魚,烏魚,白鮻</td>\n",
       "      <td>Occurrence</td>\n",
       "    </tr>\n",
       "    <tr>\n",
       "      <th>4936</th>\n",
       "      <td>6452510cd9db0801d6ba39b9</td>\n",
       "      <td>2023-05-03T12:18:20.653Z</td>\n",
       "      <td>2015-11-17T00:00:00Z</td>\n",
       "      <td>23.118600</td>\n",
       "      <td>120.08870</td>\n",
       "      <td>1.0</td>\n",
       "      <td>2015-11-17</td>\n",
       "      <td>台南市七股區</td>\n",
       "      <td>NaN</td>\n",
       "      <td>Planiliza subviridis</td>\n",
       "      <td>綠背鮻</td>\n",
       "      <td>綠背龜鮻,豆仔魚,烏仔,烏仔魚,烏魚,白鮻</td>\n",
       "      <td>Occurrence</td>\n",
       "    </tr>\n",
       "    <tr>\n",
       "      <th>4937</th>\n",
       "      <td>6452510cd9db0801d6ba39ba</td>\n",
       "      <td>2023-05-03T12:18:20.654Z</td>\n",
       "      <td>2015-11-17T00:00:00Z</td>\n",
       "      <td>23.118600</td>\n",
       "      <td>120.08870</td>\n",
       "      <td>1.0</td>\n",
       "      <td>2015-11-17</td>\n",
       "      <td>台南市七股區</td>\n",
       "      <td>NaN</td>\n",
       "      <td>Planiliza subviridis</td>\n",
       "      <td>綠背鮻</td>\n",
       "      <td>綠背龜鮻,豆仔魚,烏仔,烏仔魚,烏魚,白鮻</td>\n",
       "      <td>Occurrence</td>\n",
       "    </tr>\n",
       "    <tr>\n",
       "      <th>4938</th>\n",
       "      <td>6452510cd9db0801d6ba39bb</td>\n",
       "      <td>2023-05-03T12:18:20.655Z</td>\n",
       "      <td>2015-11-17T00:00:00Z</td>\n",
       "      <td>23.118600</td>\n",
       "      <td>120.08870</td>\n",
       "      <td>1.0</td>\n",
       "      <td>2015-11-17</td>\n",
       "      <td>台南市七股區</td>\n",
       "      <td>NaN</td>\n",
       "      <td>Planiliza subviridis</td>\n",
       "      <td>綠背鮻</td>\n",
       "      <td>綠背龜鮻,豆仔魚,烏仔,烏仔魚,烏魚,白鮻</td>\n",
       "      <td>Occurrence</td>\n",
       "    </tr>\n",
       "  </tbody>\n",
       "</table>\n",
       "<p>4939 rows × 13 columns</p>\n",
       "</div>"
      ],
      "text/plain": [
       "                            id                   created  \\\n",
       "0     65aaa794666d7900c80e141f  2024-01-19T23:46:50.212Z   \n",
       "1     65aaa794666d7900c80e1425  2024-01-19T23:46:50.212Z   \n",
       "2     65aaa794666d7900c80e1432  2024-01-19T23:46:50.212Z   \n",
       "3     65aaa795666d7900c80e14ab  2024-01-19T23:46:50.212Z   \n",
       "4     65aaa795666d7900c80e14b4  2024-01-19T23:46:50.212Z   \n",
       "...                        ...                       ...   \n",
       "4934  6452510cd9db0801d6ba3917  2023-05-03T12:18:20.535Z   \n",
       "4935  6452510cd9db0801d6ba3918  2023-05-03T12:18:20.536Z   \n",
       "4936  6452510cd9db0801d6ba39b9  2023-05-03T12:18:20.653Z   \n",
       "4937  6452510cd9db0801d6ba39ba  2023-05-03T12:18:20.654Z   \n",
       "4938  6452510cd9db0801d6ba39bb  2023-05-03T12:18:20.655Z   \n",
       "\n",
       "              standardDate  standardLatitude  standardLongitude  \\\n",
       "0     2023-05-24T00:00:00Z         23.558777          120.16397   \n",
       "1     2023-05-24T00:00:00Z         23.553722          120.16397   \n",
       "2     2023-08-09T00:00:00Z         23.558777          120.16397   \n",
       "3     2023-03-16T00:00:00Z         23.539888          120.14488   \n",
       "4     2023-05-24T00:00:00Z         23.530111          120.14844   \n",
       "...                    ...               ...                ...   \n",
       "4934  2015-11-16T00:00:00Z         23.143400          120.08580   \n",
       "4935  2015-11-16T00:00:00Z         23.143400          120.08580   \n",
       "4936  2015-11-17T00:00:00Z         23.118600          120.08870   \n",
       "4937  2015-11-17T00:00:00Z         23.118600          120.08870   \n",
       "4938  2015-11-17T00:00:00Z         23.118600          120.08870   \n",
       "\n",
       "      standardOrganismQuantity   eventDate locality organismQuantityType  \\\n",
       "0                          7.0    20230524   成龍重要濕地                    隻   \n",
       "1                          5.0    20230524   成龍重要濕地                    隻   \n",
       "2                          1.0    20230809   成龍重要濕地                    隻   \n",
       "3                          2.0    20230316   椬梧重要濕地                    隻   \n",
       "4                          4.0    20230524   椬梧重要濕地                    隻   \n",
       "...                        ...         ...      ...                  ...   \n",
       "4934                       1.0  2015-11-16   台南市七股區                  NaN   \n",
       "4935                       1.0  2015-11-16   台南市七股區                  NaN   \n",
       "4936                       1.0  2015-11-17   台南市七股區                  NaN   \n",
       "4937                       1.0  2015-11-17   台南市七股區                  NaN   \n",
       "4938                       1.0  2015-11-17   台南市七股區                  NaN   \n",
       "\n",
       "            scientificName common_name_c     alternative_name_c basisOfRecord  \n",
       "0           Chelon affinis          前鱗龜鮻      豆仔魚,烏仔,烏仔魚,烏魚,前鱗鮻           NaN  \n",
       "1           Chelon affinis          前鱗龜鮻      豆仔魚,烏仔,烏仔魚,烏魚,前鱗鮻           NaN  \n",
       "2           Chelon affinis          前鱗龜鮻      豆仔魚,烏仔,烏仔魚,烏魚,前鱗鮻           NaN  \n",
       "3           Chelon affinis          前鱗龜鮻      豆仔魚,烏仔,烏仔魚,烏魚,前鱗鮻           NaN  \n",
       "4           Chelon affinis          前鱗龜鮻      豆仔魚,烏仔,烏仔魚,烏魚,前鱗鮻           NaN  \n",
       "...                    ...           ...                    ...           ...  \n",
       "4934  Planiliza subviridis           綠背鮻  綠背龜鮻,豆仔魚,烏仔,烏仔魚,烏魚,白鮻    Occurrence  \n",
       "4935  Planiliza subviridis           綠背鮻  綠背龜鮻,豆仔魚,烏仔,烏仔魚,烏魚,白鮻    Occurrence  \n",
       "4936  Planiliza subviridis           綠背鮻  綠背龜鮻,豆仔魚,烏仔,烏仔魚,烏魚,白鮻    Occurrence  \n",
       "4937  Planiliza subviridis           綠背鮻  綠背龜鮻,豆仔魚,烏仔,烏仔魚,烏魚,白鮻    Occurrence  \n",
       "4938  Planiliza subviridis           綠背鮻  綠背龜鮻,豆仔魚,烏仔,烏仔魚,烏魚,白鮻    Occurrence  \n",
       "\n",
       "[4939 rows x 13 columns]"
      ]
     },
     "execution_count": 6,
     "metadata": {},
     "output_type": "execute_result"
    }
   ],
   "source": [
    "##建立子資料集\n",
    "\n",
    "df_subset=df[['id', 'created','standardDate', 'standardLatitude','standardLongitude', 'standardOrganismQuantity', 'eventDate','locality','organismQuantityType','scientificName',\n",
    "        'common_name_c', 'alternative_name_c','basisOfRecord']]\n",
    "\n",
    "df_subset"
   ]
  },
  {
   "cell_type": "code",
   "execution_count": 5,
   "id": "7ac434ef",
   "metadata": {},
   "outputs": [
    {
     "name": "stdout",
     "output_type": "stream",
     "text": [
      "Occurrence                1116\n",
      "HumanObservation           121\n",
      "PreservedSpecimen           60\n",
      "魚蝦類調查                       22\n",
      "HumanObservation,Event      21\n",
      "MaterialSample               7\n",
      "MaterialCitation             3\n",
      "HumanObeservation            1\n",
      "Name: basisOfRecord, dtype: int64\n"
     ]
    },
    {
     "name": "stderr",
     "output_type": "stream",
     "text": [
      "/var/folders/j7/chf5wrzx7wx6_3tklnltfj7c0000gn/T/ipykernel_1245/2100651318.py:7: SettingWithCopyWarning: \n",
      "A value is trying to be set on a copy of a slice from a DataFrame.\n",
      "Try using .loc[row_indexer,col_indexer] = value instead\n",
      "\n",
      "See the caveats in the documentation: https://pandas.pydata.org/pandas-docs/stable/user_guide/indexing.html#returning-a-view-versus-a-copy\n",
      "  df_subset['basisOfRecord_edit'] = df_subset['basisOfRecord'].fillna('Occurrence')\n"
     ]
    }
   ],
   "source": [
    "##去除非活體藏物並定義，因博物館或標本紀錄通常會被填上資料，人為觀察才容易漏填，因此紀錄方式欄位為null值的為人為觀察。\n",
    "type_status_counts = df_subset[\"basisOfRecord\"].value_counts()\n",
    "\n",
    "print(type_status_counts)\n",
    "\n",
    "##共4939列\n",
    "df_subset['basisOfRecord_edit'] = df_subset['basisOfRecord'].fillna('Occurrence')"
   ]
  },
  {
   "cell_type": "code",
   "execution_count": 6,
   "id": "500f5280",
   "metadata": {},
   "outputs": [
    {
     "data": {
      "text/plain": [
       "Occurrence                4704\n",
       "HumanObservation           121\n",
       "PreservedSpecimen           60\n",
       "魚蝦類調查                       22\n",
       "HumanObservation,Event      21\n",
       "MaterialSample               7\n",
       "MaterialCitation             3\n",
       "HumanObeservation            1\n",
       "Name: basisOfRecord_edit, dtype: int64"
      ]
     },
     "execution_count": 6,
     "metadata": {},
     "output_type": "execute_result"
    }
   ],
   "source": [
    "df_subset['basisOfRecord_edit'].value_counts()"
   ]
  },
  {
   "cell_type": "code",
   "execution_count": 7,
   "id": "09b670e9",
   "metadata": {},
   "outputs": [
    {
     "name": "stderr",
     "output_type": "stream",
     "text": [
      "/var/folders/j7/chf5wrzx7wx6_3tklnltfj7c0000gn/T/ipykernel_1245/2157930497.py:1: SettingWithCopyWarning: \n",
      "A value is trying to be set on a copy of a slice from a DataFrame.\n",
      "Try using .loc[row_indexer,col_indexer] = value instead\n",
      "\n",
      "See the caveats in the documentation: https://pandas.pydata.org/pandas-docs/stable/user_guide/indexing.html#returning-a-view-versus-a-copy\n",
      "  df_subset['human_observe']=df_subset['basisOfRecord_edit'].isin(['Occurrence', 'HumanObservation', 'HumanObservation,Event', 'HumanObeservation'])\n"
     ]
    },
    {
     "data": {
      "text/plain": [
       "True     4847\n",
       "False      92\n",
       "Name: human_observe, dtype: int64"
      ]
     },
     "execution_count": 7,
     "metadata": {},
     "output_type": "execute_result"
    }
   ],
   "source": [
    "df_subset['human_observe']=df_subset['basisOfRecord_edit'].isin(['Occurrence', 'HumanObservation', 'HumanObservation,Event', 'HumanObeservation'])\n",
    "df_subset['human_observe'].value_counts()"
   ]
  },
  {
   "cell_type": "code",
   "execution_count": 8,
   "id": "0f9e45b3",
   "metadata": {},
   "outputs": [
    {
     "data": {
      "text/plain": [
       "id                             0\n",
       "created                        0\n",
       "standardDate                 841\n",
       "standardLatitude              59\n",
       "standardLongitude             59\n",
       "standardOrganismQuantity     905\n",
       "eventDate                     72\n",
       "locality                    2246\n",
       "organismQuantityType        3432\n",
       "scientificName                 0\n",
       "common_name_c                  0\n",
       "alternative_name_c             0\n",
       "basisOfRecord               3588\n",
       "basisOfRecord_edit             0\n",
       "human_observe                  0\n",
       "dtype: int64"
      ]
     },
     "execution_count": 8,
     "metadata": {},
     "output_type": "execute_result"
    }
   ],
   "source": [
    "df_subset.isna().sum()\n",
    "##先解決日期（if standardDate is null then  if event date is null then created else null ）、地理位置，再解決type（可用隻來取代na），localty可以暫時放棄，有經緯就好，"
   ]
  },
  {
   "cell_type": "code",
   "execution_count": 9,
   "id": "1c61607c",
   "metadata": {},
   "outputs": [
    {
     "name": "stderr",
     "output_type": "stream",
     "text": [
      "/var/folders/j7/chf5wrzx7wx6_3tklnltfj7c0000gn/T/ipykernel_1245/591767339.py:2: SettingWithCopyWarning: \n",
      "A value is trying to be set on a copy of a slice from a DataFrame.\n",
      "Try using .loc[row_indexer,col_indexer] = value instead\n",
      "\n",
      "See the caveats in the documentation: https://pandas.pydata.org/pandas-docs/stable/user_guide/indexing.html#returning-a-view-versus-a-copy\n",
      "  df_subset['original_standardLatitude'] = df_subset['standardLatitude']\n"
     ]
    },
    {
     "data": {
      "text/plain": [
       "24.29207    140\n",
       "24.29209    128\n",
       "24.29208    108\n",
       "23.11860     82\n",
       "24.29210     79\n",
       "           ... \n",
       "25.17232      1\n",
       "25.17077      1\n",
       "25.17123      1\n",
       "25.18866      1\n",
       "22.98339      1\n",
       "Name: standardLatitude, Length: 1795, dtype: int64"
      ]
     },
     "execution_count": 9,
     "metadata": {},
     "output_type": "execute_result"
    }
   ],
   "source": [
    "# 保存原始的 standardLatitude 列\n",
    "df_subset['original_standardLatitude'] = df_subset['standardLatitude']\n",
    "\n",
    "\n",
    "df_subset['standardLatitude'].value_counts()\n",
    "## 出現前三名皆為24.292＿＿，所有standard若為NA皆用24.29207取代"
   ]
  },
  {
   "cell_type": "code",
   "execution_count": 10,
   "id": "53a1bc63",
   "metadata": {},
   "outputs": [
    {
     "name": "stdout",
     "output_type": "stream",
     "text": [
      "24.29207    199\n",
      "24.29209    128\n",
      "24.29208    108\n",
      "23.11860     82\n",
      "24.29210     79\n",
      "           ... \n",
      "25.17232      1\n",
      "25.17077      1\n",
      "25.17123      1\n",
      "25.18866      1\n",
      "22.98339      1\n",
      "Name: standardLatitude, Length: 1795, dtype: int64\n"
     ]
    },
    {
     "name": "stderr",
     "output_type": "stream",
     "text": [
      "/var/folders/j7/chf5wrzx7wx6_3tklnltfj7c0000gn/T/ipykernel_1245/1129596196.py:2: SettingWithCopyWarning: \n",
      "A value is trying to be set on a copy of a slice from a DataFrame\n",
      "\n",
      "See the caveats in the documentation: https://pandas.pydata.org/pandas-docs/stable/user_guide/indexing.html#returning-a-view-versus-a-copy\n",
      "  df_subset['standardLatitude'].fillna(24.29207, inplace=True)\n"
     ]
    }
   ],
   "source": [
    "# 替換缺失值\n",
    "df_subset['standardLatitude'].fillna(24.29207, inplace=True)\n",
    "# 檢查替換後的值出現次數\n",
    "value_counts = df_subset['standardLatitude'].value_counts()\n",
    "print(value_counts)"
   ]
  },
  {
   "cell_type": "code",
   "execution_count": 11,
   "id": "8fddc444",
   "metadata": {},
   "outputs": [
    {
     "name": "stdout",
     "output_type": "stream",
     "text": [
      "120.51168    201\n",
      "120.51166     83\n",
      "120.08870     82\n",
      "121.47800     63\n",
      "120.96419     63\n",
      "            ... \n",
      "120.50747      1\n",
      "120.49341      1\n",
      "120.49966      1\n",
      "120.50165      1\n",
      "120.49654      1\n",
      "Name: standardLongitude, Length: 1886, dtype: int64\n"
     ]
    },
    {
     "name": "stderr",
     "output_type": "stream",
     "text": [
      "/var/folders/j7/chf5wrzx7wx6_3tklnltfj7c0000gn/T/ipykernel_1245/2428191047.py:2: SettingWithCopyWarning: \n",
      "A value is trying to be set on a copy of a slice from a DataFrame.\n",
      "Try using .loc[row_indexer,col_indexer] = value instead\n",
      "\n",
      "See the caveats in the documentation: https://pandas.pydata.org/pandas-docs/stable/user_guide/indexing.html#returning-a-view-versus-a-copy\n",
      "  df_subset['original_standardLongitude'] = df_subset['standardLongitude']\n",
      "/var/folders/j7/chf5wrzx7wx6_3tklnltfj7c0000gn/T/ipykernel_1245/2428191047.py:6: SettingWithCopyWarning: \n",
      "A value is trying to be set on a copy of a slice from a DataFrame\n",
      "\n",
      "See the caveats in the documentation: https://pandas.pydata.org/pandas-docs/stable/user_guide/indexing.html#returning-a-view-versus-a-copy\n",
      "  df_subset['standardLongitude'].fillna(120.51168, inplace=True)\n"
     ]
    }
   ],
   "source": [
    "# 保存原始的 standardLontitude 列\n",
    "df_subset['original_standardLongitude'] = df_subset['standardLongitude']\n",
    "df_subset['standardLongitude'].value_counts()\n",
    "##前2名為120.5116_ ，以120.51168來取代NA\n",
    "# 替換缺失值\n",
    "df_subset['standardLongitude'].fillna(120.51168, inplace=True)\n",
    "# 檢查替換後的值出現次數\n",
    "value_counts = df_subset['standardLongitude'].value_counts()\n",
    "print(value_counts)"
   ]
  },
  {
   "cell_type": "code",
   "execution_count": 12,
   "id": "b2bdc556",
   "metadata": {},
   "outputs": [
    {
     "name": "stderr",
     "output_type": "stream",
     "text": [
      "/var/folders/j7/chf5wrzx7wx6_3tklnltfj7c0000gn/T/ipykernel_1245/1180525486.py:2: SettingWithCopyWarning: \n",
      "A value is trying to be set on a copy of a slice from a DataFrame.\n",
      "Try using .loc[row_indexer,col_indexer] = value instead\n",
      "\n",
      "See the caveats in the documentation: https://pandas.pydata.org/pandas-docs/stable/user_guide/indexing.html#returning-a-view-versus-a-copy\n",
      "  df_subset['original_created']=df_subset['created']\n",
      "/var/folders/j7/chf5wrzx7wx6_3tklnltfj7c0000gn/T/ipykernel_1245/1180525486.py:3: SettingWithCopyWarning: \n",
      "A value is trying to be set on a copy of a slice from a DataFrame.\n",
      "Try using .loc[row_indexer,col_indexer] = value instead\n",
      "\n",
      "See the caveats in the documentation: https://pandas.pydata.org/pandas-docs/stable/user_guide/indexing.html#returning-a-view-versus-a-copy\n",
      "  df_subset['original_standardDate']=df_subset['standardDate']\n",
      "/var/folders/j7/chf5wrzx7wx6_3tklnltfj7c0000gn/T/ipykernel_1245/1180525486.py:4: SettingWithCopyWarning: \n",
      "A value is trying to be set on a copy of a slice from a DataFrame.\n",
      "Try using .loc[row_indexer,col_indexer] = value instead\n",
      "\n",
      "See the caveats in the documentation: https://pandas.pydata.org/pandas-docs/stable/user_guide/indexing.html#returning-a-view-versus-a-copy\n",
      "  df_subset['original_eventDate']=df_subset['eventDate']\n"
     ]
    }
   ],
   "source": [
    "# 保存原始的 created\\standarddate/eventdate 列\n",
    "df_subset['original_created']=df_subset['created']\n",
    "df_subset['original_standardDate']=df_subset['standardDate']\n",
    "df_subset['original_eventDate']=df_subset['eventDate']"
   ]
  },
  {
   "cell_type": "code",
   "execution_count": 13,
   "id": "93b350df",
   "metadata": {},
   "outputs": [
    {
     "name": "stderr",
     "output_type": "stream",
     "text": [
      "/var/folders/j7/chf5wrzx7wx6_3tklnltfj7c0000gn/T/ipykernel_1245/1520950447.py:2: SettingWithCopyWarning: \n",
      "A value is trying to be set on a copy of a slice from a DataFrame.\n",
      "Try using .loc[row_indexer,col_indexer] = value instead\n",
      "\n",
      "See the caveats in the documentation: https://pandas.pydata.org/pandas-docs/stable/user_guide/indexing.html#returning-a-view-versus-a-copy\n",
      "  df_subset['standardDate'] = pd.to_datetime(df_subset['standardDate'], errors='coerce')\n",
      "/var/folders/j7/chf5wrzx7wx6_3tklnltfj7c0000gn/T/ipykernel_1245/1520950447.py:3: SettingWithCopyWarning: \n",
      "A value is trying to be set on a copy of a slice from a DataFrame.\n",
      "Try using .loc[row_indexer,col_indexer] = value instead\n",
      "\n",
      "See the caveats in the documentation: https://pandas.pydata.org/pandas-docs/stable/user_guide/indexing.html#returning-a-view-versus-a-copy\n",
      "  df_subset['eventDate'] = pd.to_datetime(df_subset['eventDate'], errors='coerce')\n",
      "/var/folders/j7/chf5wrzx7wx6_3tklnltfj7c0000gn/T/ipykernel_1245/1520950447.py:4: SettingWithCopyWarning: \n",
      "A value is trying to be set on a copy of a slice from a DataFrame.\n",
      "Try using .loc[row_indexer,col_indexer] = value instead\n",
      "\n",
      "See the caveats in the documentation: https://pandas.pydata.org/pandas-docs/stable/user_guide/indexing.html#returning-a-view-versus-a-copy\n",
      "  df_subset['created'] = pd.to_datetime(df_subset['created'], errors='coerce')\n"
     ]
    }
   ],
   "source": [
    "# 確保日期列是 datetime 類型\n",
    "df_subset['standardDate'] = pd.to_datetime(df_subset['standardDate'], errors='coerce')\n",
    "df_subset['eventDate'] = pd.to_datetime(df_subset['eventDate'], errors='coerce')\n",
    "df_subset['created'] = pd.to_datetime(df_subset['created'], errors='coerce')"
   ]
  },
  {
   "cell_type": "code",
   "execution_count": 14,
   "id": "fbdce31a",
   "metadata": {},
   "outputs": [
    {
     "name": "stderr",
     "output_type": "stream",
     "text": [
      "/var/folders/j7/chf5wrzx7wx6_3tklnltfj7c0000gn/T/ipykernel_1245/1668392473.py:2: SettingWithCopyWarning: \n",
      "A value is trying to be set on a copy of a slice from a DataFrame\n",
      "\n",
      "See the caveats in the documentation: https://pandas.pydata.org/pandas-docs/stable/user_guide/indexing.html#returning-a-view-versus-a-copy\n",
      "  df_subset['eventDate'].fillna(df_subset['created'], inplace=True)\n",
      "/var/folders/j7/chf5wrzx7wx6_3tklnltfj7c0000gn/T/ipykernel_1245/1668392473.py:4: SettingWithCopyWarning: \n",
      "A value is trying to be set on a copy of a slice from a DataFrame\n",
      "\n",
      "See the caveats in the documentation: https://pandas.pydata.org/pandas-docs/stable/user_guide/indexing.html#returning-a-view-versus-a-copy\n",
      "  df_subset['standardDate'].fillna(df_subset['eventDate'], inplace=True)\n",
      "/var/folders/j7/chf5wrzx7wx6_3tklnltfj7c0000gn/T/ipykernel_1245/1668392473.py:6: SettingWithCopyWarning: \n",
      "A value is trying to be set on a copy of a slice from a DataFrame\n",
      "\n",
      "See the caveats in the documentation: https://pandas.pydata.org/pandas-docs/stable/user_guide/indexing.html#returning-a-view-versus-a-copy\n",
      "  df_subset['standardDate'].fillna(df_subset['created'], inplace=True)\n"
     ]
    }
   ],
   "source": [
    "# 使用 created 替換 standardDate 和 eventDate 都為缺失值的情況\n",
    "df_subset['eventDate'].fillna(df_subset['created'], inplace=True)\n",
    "# 使用 eventDate 替換 standardDate 中的缺失值\n",
    "df_subset['standardDate'].fillna(df_subset['eventDate'], inplace=True)\n",
    "# 使用 created 替換 standardDate 和 eventDate 都為缺失值的情況\n",
    "df_subset['standardDate'].fillna(df_subset['created'], inplace=True)\n",
    "# 移除仍然包含 NaT 的行\n",
    "df_subset = df_subset.dropna(subset=['standardDate'])"
   ]
  },
  {
   "cell_type": "code",
   "execution_count": 15,
   "id": "8f2c0480",
   "metadata": {},
   "outputs": [
    {
     "data": {
      "text/plain": [
       "standardDate         False\n",
       "standardLongitude    False\n",
       "standardLatitude     False\n",
       "dtype: bool"
      ]
     },
     "execution_count": 15,
     "metadata": {},
     "output_type": "execute_result"
    }
   ],
   "source": [
    "#檢查上面是否成功\n",
    "df_subset[['standardDate','standardLongitude','standardLatitude']].isna().any()"
   ]
  },
  {
   "cell_type": "code",
   "execution_count": 16,
   "id": "457108df",
   "metadata": {},
   "outputs": [
    {
     "data": {
      "text/plain": [
       "Index(['id', 'created', 'standardDate', 'standardLatitude',\n",
       "       'standardLongitude', 'standardOrganismQuantity', 'eventDate',\n",
       "       'locality', 'organismQuantityType', 'scientificName', 'common_name_c',\n",
       "       'alternative_name_c', 'basisOfRecord', 'basisOfRecord_edit',\n",
       "       'human_observe', 'original_standardLatitude',\n",
       "       'original_standardLongitude', 'original_created',\n",
       "       'original_standardDate', 'original_eventDate'],\n",
       "      dtype='object')"
      ]
     },
     "execution_count": 16,
     "metadata": {},
     "output_type": "execute_result"
    }
   ],
   "source": [
    "df_subset.columns\n"
   ]
  },
  {
   "cell_type": "code",
   "execution_count": 1,
   "id": "f9b9bef0",
   "metadata": {},
   "outputs": [
    {
     "ename": "NameError",
     "evalue": "name 'df_subset' is not defined",
     "output_type": "error",
     "traceback": [
      "\u001b[0;31m---------------------------------------------------------------------------\u001b[0m",
      "\u001b[0;31mNameError\u001b[0m                                 Traceback (most recent call last)",
      "Cell \u001b[0;32mIn[1], line 3\u001b[0m\n\u001b[1;32m      1\u001b[0m \u001b[38;5;66;03m##以年為角度計算\u001b[39;00m\n\u001b[0;32m----> 3\u001b[0m df_subset[\u001b[38;5;124m'\u001b[39m\u001b[38;5;124myear\u001b[39m\u001b[38;5;124m'\u001b[39m] \u001b[38;5;241m=\u001b[39m df_subset[\u001b[38;5;124m'\u001b[39m\u001b[38;5;124mstandardDate\u001b[39m\u001b[38;5;124m'\u001b[39m]\u001b[38;5;241m.\u001b[39mdt\u001b[38;5;241m.\u001b[39myear\n\u001b[1;32m      4\u001b[0m df_subset[\u001b[38;5;124m'\u001b[39m\u001b[38;5;124mmonth\u001b[39m\u001b[38;5;124m'\u001b[39m] \u001b[38;5;241m=\u001b[39m df_subset[\u001b[38;5;124m'\u001b[39m\u001b[38;5;124mstandardDate\u001b[39m\u001b[38;5;124m'\u001b[39m]\u001b[38;5;241m.\u001b[39mdt\u001b[38;5;241m.\u001b[39mmonth\n\u001b[1;32m      5\u001b[0m df_subset[\u001b[38;5;124m'\u001b[39m\u001b[38;5;124myearmonth\u001b[39m\u001b[38;5;124m'\u001b[39m] \u001b[38;5;241m=\u001b[39m df_subset[\u001b[38;5;124m'\u001b[39m\u001b[38;5;124myear\u001b[39m\u001b[38;5;124m'\u001b[39m]\u001b[38;5;241m.\u001b[39mastype(\u001b[38;5;28mstr\u001b[39m) \u001b[38;5;241m+\u001b[39m \u001b[38;5;124m'\u001b[39m\u001b[38;5;124m-\u001b[39m\u001b[38;5;124m'\u001b[39m \u001b[38;5;241m+\u001b[39m df_subset[\u001b[38;5;124m'\u001b[39m\u001b[38;5;124mmonth\u001b[39m\u001b[38;5;124m'\u001b[39m]\u001b[38;5;241m.\u001b[39mastype(\u001b[38;5;28mstr\u001b[39m)\u001b[38;5;241m.\u001b[39mstr\u001b[38;5;241m.\u001b[39mzfill(\u001b[38;5;241m2\u001b[39m)\n",
      "\u001b[0;31mNameError\u001b[0m: name 'df_subset' is not defined"
     ]
    }
   ],
   "source": [
    "##以年為角度計算\n",
    "\n",
    "df_subset['year'] = df_subset['standardDate'].dt.year\n",
    "df_subset['month'] = df_subset['standardDate'].dt.month\n",
    "df_subset['yearmonth'] = df_subset['year'].astype(str) + '-' + df_subset['month'].astype(str).str.zfill(2)"
   ]
  },
  {
   "cell_type": "code",
   "execution_count": 2,
   "id": "8d5e26ed",
   "metadata": {},
   "outputs": [
    {
     "ename": "NameError",
     "evalue": "name 'df_subset' is not defined",
     "output_type": "error",
     "traceback": [
      "\u001b[0;31m---------------------------------------------------------------------------\u001b[0m",
      "\u001b[0;31mNameError\u001b[0m                                 Traceback (most recent call last)",
      "Cell \u001b[0;32mIn[2], line 2\u001b[0m\n\u001b[1;32m      1\u001b[0m \u001b[38;5;66;03m#製作mask 篩選2005後的資料\u001b[39;00m\n\u001b[0;32m----> 2\u001b[0m mask\u001b[38;5;241m=\u001b[39mdf_subset[\u001b[38;5;124m'\u001b[39m\u001b[38;5;124myear\u001b[39m\u001b[38;5;124m'\u001b[39m] \u001b[38;5;241m>\u001b[39m\u001b[38;5;241m=\u001b[39m \u001b[38;5;241m2005\u001b[39m\n",
      "\u001b[0;31mNameError\u001b[0m: name 'df_subset' is not defined"
     ]
    }
   ],
   "source": [
    "#製作mask 篩選2005後的資料\n",
    "mask=df_subset['year'] >= 2005"
   ]
  },
  {
   "cell_type": "code",
   "execution_count": 35,
   "id": "d7efef90",
   "metadata": {},
   "outputs": [],
   "source": [
    "#篩選\n",
    "df_subset[mask]\n",
    "df_subset=df_subset[mask]"
   ]
  },
  {
   "cell_type": "code",
   "execution_count": 36,
   "id": "18717ca2",
   "metadata": {},
   "outputs": [],
   "source": [
    "df_subset.to_csv('烏魚觀測紀錄.csv', index=False)"
   ]
  },
  {
   "cell_type": "code",
   "execution_count": 37,
   "id": "0b95e9e6",
   "metadata": {
    "scrolled": true
   },
   "outputs": [
    {
     "data": {
      "text/html": [
       "<div>\n",
       "<style scoped>\n",
       "    .dataframe tbody tr th:only-of-type {\n",
       "        vertical-align: middle;\n",
       "    }\n",
       "\n",
       "    .dataframe tbody tr th {\n",
       "        vertical-align: top;\n",
       "    }\n",
       "\n",
       "    .dataframe thead th {\n",
       "        text-align: right;\n",
       "    }\n",
       "</style>\n",
       "<table border=\"1\" class=\"dataframe\">\n",
       "  <thead>\n",
       "    <tr style=\"text-align: right;\">\n",
       "      <th></th>\n",
       "      <th>id</th>\n",
       "      <th>created</th>\n",
       "      <th>standardDate</th>\n",
       "      <th>standardLatitude</th>\n",
       "      <th>standardLongitude</th>\n",
       "      <th>standardOrganismQuantity</th>\n",
       "      <th>eventDate</th>\n",
       "      <th>locality</th>\n",
       "      <th>organismQuantityType</th>\n",
       "      <th>scientificName</th>\n",
       "      <th>common_name_c</th>\n",
       "      <th>alternative_name_c</th>\n",
       "      <th>basisOfRecord</th>\n",
       "      <th>basisOfRecord_edit</th>\n",
       "      <th>human_observe</th>\n",
       "      <th>original_standardLatitude</th>\n",
       "      <th>original_standardLongitude</th>\n",
       "      <th>original_created</th>\n",
       "      <th>original_standardDate</th>\n",
       "      <th>original_eventDate</th>\n",
       "      <th>year</th>\n",
       "      <th>month</th>\n",
       "      <th>yearmonth</th>\n",
       "    </tr>\n",
       "  </thead>\n",
       "  <tbody>\n",
       "    <tr>\n",
       "      <th>0</th>\n",
       "      <td>65aaa794666d7900c80e141f</td>\n",
       "      <td>2024-01-19 23:46:50.212000+00:00</td>\n",
       "      <td>2023-05-24 00:00:00+00:00</td>\n",
       "      <td>23.558777</td>\n",
       "      <td>120.16397</td>\n",
       "      <td>7.0</td>\n",
       "      <td>2023-05-24 00:00:00</td>\n",
       "      <td>成龍重要濕地</td>\n",
       "      <td>隻</td>\n",
       "      <td>Chelon affinis</td>\n",
       "      <td>前鱗龜鮻</td>\n",
       "      <td>豆仔魚,烏仔,烏仔魚,烏魚,前鱗鮻</td>\n",
       "      <td>NaN</td>\n",
       "      <td>Occurrence</td>\n",
       "      <td>True</td>\n",
       "      <td>23.558777</td>\n",
       "      <td>120.16397</td>\n",
       "      <td>2024-01-19T23:46:50.212Z</td>\n",
       "      <td>2023-05-24T00:00:00Z</td>\n",
       "      <td>20230524</td>\n",
       "      <td>2023</td>\n",
       "      <td>5</td>\n",
       "      <td>2023-05</td>\n",
       "    </tr>\n",
       "    <tr>\n",
       "      <th>1</th>\n",
       "      <td>65aaa794666d7900c80e1425</td>\n",
       "      <td>2024-01-19 23:46:50.212000+00:00</td>\n",
       "      <td>2023-05-24 00:00:00+00:00</td>\n",
       "      <td>23.553722</td>\n",
       "      <td>120.16397</td>\n",
       "      <td>5.0</td>\n",
       "      <td>2023-05-24 00:00:00</td>\n",
       "      <td>成龍重要濕地</td>\n",
       "      <td>隻</td>\n",
       "      <td>Chelon affinis</td>\n",
       "      <td>前鱗龜鮻</td>\n",
       "      <td>豆仔魚,烏仔,烏仔魚,烏魚,前鱗鮻</td>\n",
       "      <td>NaN</td>\n",
       "      <td>Occurrence</td>\n",
       "      <td>True</td>\n",
       "      <td>23.553722</td>\n",
       "      <td>120.16397</td>\n",
       "      <td>2024-01-19T23:46:50.212Z</td>\n",
       "      <td>2023-05-24T00:00:00Z</td>\n",
       "      <td>20230524</td>\n",
       "      <td>2023</td>\n",
       "      <td>5</td>\n",
       "      <td>2023-05</td>\n",
       "    </tr>\n",
       "    <tr>\n",
       "      <th>2</th>\n",
       "      <td>65aaa794666d7900c80e1432</td>\n",
       "      <td>2024-01-19 23:46:50.212000+00:00</td>\n",
       "      <td>2023-08-09 00:00:00+00:00</td>\n",
       "      <td>23.558777</td>\n",
       "      <td>120.16397</td>\n",
       "      <td>1.0</td>\n",
       "      <td>2023-08-09 00:00:00</td>\n",
       "      <td>成龍重要濕地</td>\n",
       "      <td>隻</td>\n",
       "      <td>Chelon affinis</td>\n",
       "      <td>前鱗龜鮻</td>\n",
       "      <td>豆仔魚,烏仔,烏仔魚,烏魚,前鱗鮻</td>\n",
       "      <td>NaN</td>\n",
       "      <td>Occurrence</td>\n",
       "      <td>True</td>\n",
       "      <td>23.558777</td>\n",
       "      <td>120.16397</td>\n",
       "      <td>2024-01-19T23:46:50.212Z</td>\n",
       "      <td>2023-08-09T00:00:00Z</td>\n",
       "      <td>20230809</td>\n",
       "      <td>2023</td>\n",
       "      <td>8</td>\n",
       "      <td>2023-08</td>\n",
       "    </tr>\n",
       "    <tr>\n",
       "      <th>3</th>\n",
       "      <td>65aaa795666d7900c80e14ab</td>\n",
       "      <td>2024-01-19 23:46:50.212000+00:00</td>\n",
       "      <td>2023-03-16 00:00:00+00:00</td>\n",
       "      <td>23.539888</td>\n",
       "      <td>120.14488</td>\n",
       "      <td>2.0</td>\n",
       "      <td>2023-03-16 00:00:00</td>\n",
       "      <td>椬梧重要濕地</td>\n",
       "      <td>隻</td>\n",
       "      <td>Chelon affinis</td>\n",
       "      <td>前鱗龜鮻</td>\n",
       "      <td>豆仔魚,烏仔,烏仔魚,烏魚,前鱗鮻</td>\n",
       "      <td>NaN</td>\n",
       "      <td>Occurrence</td>\n",
       "      <td>True</td>\n",
       "      <td>23.539888</td>\n",
       "      <td>120.14488</td>\n",
       "      <td>2024-01-19T23:46:50.212Z</td>\n",
       "      <td>2023-03-16T00:00:00Z</td>\n",
       "      <td>20230316</td>\n",
       "      <td>2023</td>\n",
       "      <td>3</td>\n",
       "      <td>2023-03</td>\n",
       "    </tr>\n",
       "    <tr>\n",
       "      <th>4</th>\n",
       "      <td>65aaa795666d7900c80e14b4</td>\n",
       "      <td>2024-01-19 23:46:50.212000+00:00</td>\n",
       "      <td>2023-05-24 00:00:00+00:00</td>\n",
       "      <td>23.530111</td>\n",
       "      <td>120.14844</td>\n",
       "      <td>4.0</td>\n",
       "      <td>2023-05-24 00:00:00</td>\n",
       "      <td>椬梧重要濕地</td>\n",
       "      <td>隻</td>\n",
       "      <td>Chelon affinis</td>\n",
       "      <td>前鱗龜鮻</td>\n",
       "      <td>豆仔魚,烏仔,烏仔魚,烏魚,前鱗鮻</td>\n",
       "      <td>NaN</td>\n",
       "      <td>Occurrence</td>\n",
       "      <td>True</td>\n",
       "      <td>23.530111</td>\n",
       "      <td>120.14844</td>\n",
       "      <td>2024-01-19T23:46:50.212Z</td>\n",
       "      <td>2023-05-24T00:00:00Z</td>\n",
       "      <td>20230524</td>\n",
       "      <td>2023</td>\n",
       "      <td>5</td>\n",
       "      <td>2023-05</td>\n",
       "    </tr>\n",
       "    <tr>\n",
       "      <th>...</th>\n",
       "      <td>...</td>\n",
       "      <td>...</td>\n",
       "      <td>...</td>\n",
       "      <td>...</td>\n",
       "      <td>...</td>\n",
       "      <td>...</td>\n",
       "      <td>...</td>\n",
       "      <td>...</td>\n",
       "      <td>...</td>\n",
       "      <td>...</td>\n",
       "      <td>...</td>\n",
       "      <td>...</td>\n",
       "      <td>...</td>\n",
       "      <td>...</td>\n",
       "      <td>...</td>\n",
       "      <td>...</td>\n",
       "      <td>...</td>\n",
       "      <td>...</td>\n",
       "      <td>...</td>\n",
       "      <td>...</td>\n",
       "      <td>...</td>\n",
       "      <td>...</td>\n",
       "      <td>...</td>\n",
       "    </tr>\n",
       "    <tr>\n",
       "      <th>4803</th>\n",
       "      <td>6452510cd9db0801d6ba3917</td>\n",
       "      <td>2023-05-03 12:18:20.535000+00:00</td>\n",
       "      <td>2015-11-16 00:00:00+00:00</td>\n",
       "      <td>23.143400</td>\n",
       "      <td>120.08580</td>\n",
       "      <td>1.0</td>\n",
       "      <td>2015-11-16 00:00:00</td>\n",
       "      <td>台南市七股區</td>\n",
       "      <td>NaN</td>\n",
       "      <td>Planiliza subviridis</td>\n",
       "      <td>綠背鮻</td>\n",
       "      <td>綠背龜鮻,豆仔魚,烏仔,烏仔魚,烏魚,白鮻</td>\n",
       "      <td>Occurrence</td>\n",
       "      <td>Occurrence</td>\n",
       "      <td>True</td>\n",
       "      <td>23.143400</td>\n",
       "      <td>120.08580</td>\n",
       "      <td>2023-05-03T12:18:20.535Z</td>\n",
       "      <td>2015-11-16T00:00:00Z</td>\n",
       "      <td>2015-11-16</td>\n",
       "      <td>2015</td>\n",
       "      <td>11</td>\n",
       "      <td>2015-11</td>\n",
       "    </tr>\n",
       "    <tr>\n",
       "      <th>4804</th>\n",
       "      <td>6452510cd9db0801d6ba3918</td>\n",
       "      <td>2023-05-03 12:18:20.536000+00:00</td>\n",
       "      <td>2015-11-16 00:00:00+00:00</td>\n",
       "      <td>23.143400</td>\n",
       "      <td>120.08580</td>\n",
       "      <td>1.0</td>\n",
       "      <td>2015-11-16 00:00:00</td>\n",
       "      <td>台南市七股區</td>\n",
       "      <td>NaN</td>\n",
       "      <td>Planiliza subviridis</td>\n",
       "      <td>綠背鮻</td>\n",
       "      <td>綠背龜鮻,豆仔魚,烏仔,烏仔魚,烏魚,白鮻</td>\n",
       "      <td>Occurrence</td>\n",
       "      <td>Occurrence</td>\n",
       "      <td>True</td>\n",
       "      <td>23.143400</td>\n",
       "      <td>120.08580</td>\n",
       "      <td>2023-05-03T12:18:20.536Z</td>\n",
       "      <td>2015-11-16T00:00:00Z</td>\n",
       "      <td>2015-11-16</td>\n",
       "      <td>2015</td>\n",
       "      <td>11</td>\n",
       "      <td>2015-11</td>\n",
       "    </tr>\n",
       "    <tr>\n",
       "      <th>4805</th>\n",
       "      <td>6452510cd9db0801d6ba39b9</td>\n",
       "      <td>2023-05-03 12:18:20.653000+00:00</td>\n",
       "      <td>2015-11-17 00:00:00+00:00</td>\n",
       "      <td>23.118600</td>\n",
       "      <td>120.08870</td>\n",
       "      <td>1.0</td>\n",
       "      <td>2015-11-17 00:00:00</td>\n",
       "      <td>台南市七股區</td>\n",
       "      <td>NaN</td>\n",
       "      <td>Planiliza subviridis</td>\n",
       "      <td>綠背鮻</td>\n",
       "      <td>綠背龜鮻,豆仔魚,烏仔,烏仔魚,烏魚,白鮻</td>\n",
       "      <td>Occurrence</td>\n",
       "      <td>Occurrence</td>\n",
       "      <td>True</td>\n",
       "      <td>23.118600</td>\n",
       "      <td>120.08870</td>\n",
       "      <td>2023-05-03T12:18:20.653Z</td>\n",
       "      <td>2015-11-17T00:00:00Z</td>\n",
       "      <td>2015-11-17</td>\n",
       "      <td>2015</td>\n",
       "      <td>11</td>\n",
       "      <td>2015-11</td>\n",
       "    </tr>\n",
       "    <tr>\n",
       "      <th>4806</th>\n",
       "      <td>6452510cd9db0801d6ba39ba</td>\n",
       "      <td>2023-05-03 12:18:20.654000+00:00</td>\n",
       "      <td>2015-11-17 00:00:00+00:00</td>\n",
       "      <td>23.118600</td>\n",
       "      <td>120.08870</td>\n",
       "      <td>1.0</td>\n",
       "      <td>2015-11-17 00:00:00</td>\n",
       "      <td>台南市七股區</td>\n",
       "      <td>NaN</td>\n",
       "      <td>Planiliza subviridis</td>\n",
       "      <td>綠背鮻</td>\n",
       "      <td>綠背龜鮻,豆仔魚,烏仔,烏仔魚,烏魚,白鮻</td>\n",
       "      <td>Occurrence</td>\n",
       "      <td>Occurrence</td>\n",
       "      <td>True</td>\n",
       "      <td>23.118600</td>\n",
       "      <td>120.08870</td>\n",
       "      <td>2023-05-03T12:18:20.654Z</td>\n",
       "      <td>2015-11-17T00:00:00Z</td>\n",
       "      <td>2015-11-17</td>\n",
       "      <td>2015</td>\n",
       "      <td>11</td>\n",
       "      <td>2015-11</td>\n",
       "    </tr>\n",
       "    <tr>\n",
       "      <th>4807</th>\n",
       "      <td>6452510cd9db0801d6ba39bb</td>\n",
       "      <td>2023-05-03 12:18:20.655000+00:00</td>\n",
       "      <td>2015-11-17 00:00:00+00:00</td>\n",
       "      <td>23.118600</td>\n",
       "      <td>120.08870</td>\n",
       "      <td>1.0</td>\n",
       "      <td>2015-11-17 00:00:00</td>\n",
       "      <td>台南市七股區</td>\n",
       "      <td>NaN</td>\n",
       "      <td>Planiliza subviridis</td>\n",
       "      <td>綠背鮻</td>\n",
       "      <td>綠背龜鮻,豆仔魚,烏仔,烏仔魚,烏魚,白鮻</td>\n",
       "      <td>Occurrence</td>\n",
       "      <td>Occurrence</td>\n",
       "      <td>True</td>\n",
       "      <td>23.118600</td>\n",
       "      <td>120.08870</td>\n",
       "      <td>2023-05-03T12:18:20.655Z</td>\n",
       "      <td>2015-11-17T00:00:00Z</td>\n",
       "      <td>2015-11-17</td>\n",
       "      <td>2015</td>\n",
       "      <td>11</td>\n",
       "      <td>2015-11</td>\n",
       "    </tr>\n",
       "  </tbody>\n",
       "</table>\n",
       "<p>4808 rows × 23 columns</p>\n",
       "</div>"
      ],
      "text/plain": [
       "                            id                           created  \\\n",
       "0     65aaa794666d7900c80e141f  2024-01-19 23:46:50.212000+00:00   \n",
       "1     65aaa794666d7900c80e1425  2024-01-19 23:46:50.212000+00:00   \n",
       "2     65aaa794666d7900c80e1432  2024-01-19 23:46:50.212000+00:00   \n",
       "3     65aaa795666d7900c80e14ab  2024-01-19 23:46:50.212000+00:00   \n",
       "4     65aaa795666d7900c80e14b4  2024-01-19 23:46:50.212000+00:00   \n",
       "...                        ...                               ...   \n",
       "4803  6452510cd9db0801d6ba3917  2023-05-03 12:18:20.535000+00:00   \n",
       "4804  6452510cd9db0801d6ba3918  2023-05-03 12:18:20.536000+00:00   \n",
       "4805  6452510cd9db0801d6ba39b9  2023-05-03 12:18:20.653000+00:00   \n",
       "4806  6452510cd9db0801d6ba39ba  2023-05-03 12:18:20.654000+00:00   \n",
       "4807  6452510cd9db0801d6ba39bb  2023-05-03 12:18:20.655000+00:00   \n",
       "\n",
       "                   standardDate  standardLatitude  standardLongitude  \\\n",
       "0     2023-05-24 00:00:00+00:00         23.558777          120.16397   \n",
       "1     2023-05-24 00:00:00+00:00         23.553722          120.16397   \n",
       "2     2023-08-09 00:00:00+00:00         23.558777          120.16397   \n",
       "3     2023-03-16 00:00:00+00:00         23.539888          120.14488   \n",
       "4     2023-05-24 00:00:00+00:00         23.530111          120.14844   \n",
       "...                         ...               ...                ...   \n",
       "4803  2015-11-16 00:00:00+00:00         23.143400          120.08580   \n",
       "4804  2015-11-16 00:00:00+00:00         23.143400          120.08580   \n",
       "4805  2015-11-17 00:00:00+00:00         23.118600          120.08870   \n",
       "4806  2015-11-17 00:00:00+00:00         23.118600          120.08870   \n",
       "4807  2015-11-17 00:00:00+00:00         23.118600          120.08870   \n",
       "\n",
       "      standardOrganismQuantity            eventDate locality  \\\n",
       "0                          7.0  2023-05-24 00:00:00   成龍重要濕地   \n",
       "1                          5.0  2023-05-24 00:00:00   成龍重要濕地   \n",
       "2                          1.0  2023-08-09 00:00:00   成龍重要濕地   \n",
       "3                          2.0  2023-03-16 00:00:00   椬梧重要濕地   \n",
       "4                          4.0  2023-05-24 00:00:00   椬梧重要濕地   \n",
       "...                        ...                  ...      ...   \n",
       "4803                       1.0  2015-11-16 00:00:00   台南市七股區   \n",
       "4804                       1.0  2015-11-16 00:00:00   台南市七股區   \n",
       "4805                       1.0  2015-11-17 00:00:00   台南市七股區   \n",
       "4806                       1.0  2015-11-17 00:00:00   台南市七股區   \n",
       "4807                       1.0  2015-11-17 00:00:00   台南市七股區   \n",
       "\n",
       "     organismQuantityType        scientificName common_name_c  \\\n",
       "0                       隻        Chelon affinis          前鱗龜鮻   \n",
       "1                       隻        Chelon affinis          前鱗龜鮻   \n",
       "2                       隻        Chelon affinis          前鱗龜鮻   \n",
       "3                       隻        Chelon affinis          前鱗龜鮻   \n",
       "4                       隻        Chelon affinis          前鱗龜鮻   \n",
       "...                   ...                   ...           ...   \n",
       "4803                  NaN  Planiliza subviridis           綠背鮻   \n",
       "4804                  NaN  Planiliza subviridis           綠背鮻   \n",
       "4805                  NaN  Planiliza subviridis           綠背鮻   \n",
       "4806                  NaN  Planiliza subviridis           綠背鮻   \n",
       "4807                  NaN  Planiliza subviridis           綠背鮻   \n",
       "\n",
       "         alternative_name_c basisOfRecord basisOfRecord_edit  human_observe  \\\n",
       "0         豆仔魚,烏仔,烏仔魚,烏魚,前鱗鮻           NaN         Occurrence           True   \n",
       "1         豆仔魚,烏仔,烏仔魚,烏魚,前鱗鮻           NaN         Occurrence           True   \n",
       "2         豆仔魚,烏仔,烏仔魚,烏魚,前鱗鮻           NaN         Occurrence           True   \n",
       "3         豆仔魚,烏仔,烏仔魚,烏魚,前鱗鮻           NaN         Occurrence           True   \n",
       "4         豆仔魚,烏仔,烏仔魚,烏魚,前鱗鮻           NaN         Occurrence           True   \n",
       "...                     ...           ...                ...            ...   \n",
       "4803  綠背龜鮻,豆仔魚,烏仔,烏仔魚,烏魚,白鮻    Occurrence         Occurrence           True   \n",
       "4804  綠背龜鮻,豆仔魚,烏仔,烏仔魚,烏魚,白鮻    Occurrence         Occurrence           True   \n",
       "4805  綠背龜鮻,豆仔魚,烏仔,烏仔魚,烏魚,白鮻    Occurrence         Occurrence           True   \n",
       "4806  綠背龜鮻,豆仔魚,烏仔,烏仔魚,烏魚,白鮻    Occurrence         Occurrence           True   \n",
       "4807  綠背龜鮻,豆仔魚,烏仔,烏仔魚,烏魚,白鮻    Occurrence         Occurrence           True   \n",
       "\n",
       "      original_standardLatitude  original_standardLongitude  \\\n",
       "0                     23.558777                   120.16397   \n",
       "1                     23.553722                   120.16397   \n",
       "2                     23.558777                   120.16397   \n",
       "3                     23.539888                   120.14488   \n",
       "4                     23.530111                   120.14844   \n",
       "...                         ...                         ...   \n",
       "4803                  23.143400                   120.08580   \n",
       "4804                  23.143400                   120.08580   \n",
       "4805                  23.118600                   120.08870   \n",
       "4806                  23.118600                   120.08870   \n",
       "4807                  23.118600                   120.08870   \n",
       "\n",
       "              original_created original_standardDate original_eventDate  year  \\\n",
       "0     2024-01-19T23:46:50.212Z  2023-05-24T00:00:00Z           20230524  2023   \n",
       "1     2024-01-19T23:46:50.212Z  2023-05-24T00:00:00Z           20230524  2023   \n",
       "2     2024-01-19T23:46:50.212Z  2023-08-09T00:00:00Z           20230809  2023   \n",
       "3     2024-01-19T23:46:50.212Z  2023-03-16T00:00:00Z           20230316  2023   \n",
       "4     2024-01-19T23:46:50.212Z  2023-05-24T00:00:00Z           20230524  2023   \n",
       "...                        ...                   ...                ...   ...   \n",
       "4803  2023-05-03T12:18:20.535Z  2015-11-16T00:00:00Z         2015-11-16  2015   \n",
       "4804  2023-05-03T12:18:20.536Z  2015-11-16T00:00:00Z         2015-11-16  2015   \n",
       "4805  2023-05-03T12:18:20.653Z  2015-11-17T00:00:00Z         2015-11-17  2015   \n",
       "4806  2023-05-03T12:18:20.654Z  2015-11-17T00:00:00Z         2015-11-17  2015   \n",
       "4807  2023-05-03T12:18:20.655Z  2015-11-17T00:00:00Z         2015-11-17  2015   \n",
       "\n",
       "      month yearmonth  \n",
       "0         5   2023-05  \n",
       "1         5   2023-05  \n",
       "2         8   2023-08  \n",
       "3         3   2023-03  \n",
       "4         5   2023-05  \n",
       "...     ...       ...  \n",
       "4803     11   2015-11  \n",
       "4804     11   2015-11  \n",
       "4805     11   2015-11  \n",
       "4806     11   2015-11  \n",
       "4807     11   2015-11  \n",
       "\n",
       "[4808 rows x 23 columns]"
      ]
     },
     "execution_count": 37,
     "metadata": {},
     "output_type": "execute_result"
    }
   ],
   "source": [
    "df = pd.read_csv('烏魚觀測紀錄.csv')\n"
   ]
  },
  {
   "cell_type": "code",
   "execution_count": 39,
   "id": "d7cebe87",
   "metadata": {},
   "outputs": [],
   "source": [
    "df['yearmonthAVGlatitude']=df.groupby('yearmonth')['standardLatitude'].transform('mean')"
   ]
  },
  {
   "cell_type": "code",
   "execution_count": 62,
   "id": "d2f7f80b",
   "metadata": {},
   "outputs": [],
   "source": [
    "df = pd.read_csv('烏魚觀測紀錄.csv')\n",
    "df2 = pd.read_excel('基隆潮位站sea_temperature_data.xlsx')\n",
    "df2=df2.rename(columns={'Month':'month','Year':'year'})"
   ]
  },
  {
   "cell_type": "code",
   "execution_count": 63,
   "id": "f7ca33af",
   "metadata": {},
   "outputs": [],
   "source": [
    "merged_df= pd.merge(df, df2, on=['year', 'month'], how='inner')"
   ]
  },
  {
   "cell_type": "code",
   "execution_count": 64,
   "id": "87581de1",
   "metadata": {},
   "outputs": [],
   "source": [
    "merged_df.to_csv('大表.csv')"
   ]
  },
  {
   "cell_type": "code",
   "execution_count": 28,
   "id": "9979165b",
   "metadata": {},
   "outputs": [
    {
     "data": {
      "text/html": [
       "<div>\n",
       "<style scoped>\n",
       "    .dataframe tbody tr th:only-of-type {\n",
       "        vertical-align: middle;\n",
       "    }\n",
       "\n",
       "    .dataframe tbody tr th {\n",
       "        vertical-align: top;\n",
       "    }\n",
       "\n",
       "    .dataframe thead th {\n",
       "        text-align: right;\n",
       "    }\n",
       "</style>\n",
       "<table border=\"1\" class=\"dataframe\">\n",
       "  <thead>\n",
       "    <tr style=\"text-align: right;\">\n",
       "      <th></th>\n",
       "      <th>year</th>\n",
       "      <th>standardLatitude</th>\n",
       "      <th>moving_avg</th>\n",
       "    </tr>\n",
       "  </thead>\n",
       "  <tbody>\n",
       "    <tr>\n",
       "      <th>0</th>\n",
       "      <td>2005</td>\n",
       "      <td>23.947178</td>\n",
       "      <td>23.947178</td>\n",
       "    </tr>\n",
       "    <tr>\n",
       "      <th>1</th>\n",
       "      <td>2006</td>\n",
       "      <td>23.700963</td>\n",
       "      <td>23.824071</td>\n",
       "    </tr>\n",
       "    <tr>\n",
       "      <th>2</th>\n",
       "      <td>2007</td>\n",
       "      <td>23.505170</td>\n",
       "      <td>23.717771</td>\n",
       "    </tr>\n",
       "    <tr>\n",
       "      <th>3</th>\n",
       "      <td>2008</td>\n",
       "      <td>24.402720</td>\n",
       "      <td>23.889008</td>\n",
       "    </tr>\n",
       "    <tr>\n",
       "      <th>4</th>\n",
       "      <td>2009</td>\n",
       "      <td>24.204079</td>\n",
       "      <td>23.952022</td>\n",
       "    </tr>\n",
       "    <tr>\n",
       "      <th>5</th>\n",
       "      <td>2011</td>\n",
       "      <td>23.529660</td>\n",
       "      <td>23.868518</td>\n",
       "    </tr>\n",
       "    <tr>\n",
       "      <th>6</th>\n",
       "      <td>2012</td>\n",
       "      <td>23.438028</td>\n",
       "      <td>23.815931</td>\n",
       "    </tr>\n",
       "    <tr>\n",
       "      <th>7</th>\n",
       "      <td>2013</td>\n",
       "      <td>23.876981</td>\n",
       "      <td>23.890293</td>\n",
       "    </tr>\n",
       "    <tr>\n",
       "      <th>8</th>\n",
       "      <td>2014</td>\n",
       "      <td>23.865890</td>\n",
       "      <td>23.782927</td>\n",
       "    </tr>\n",
       "    <tr>\n",
       "      <th>9</th>\n",
       "      <td>2015</td>\n",
       "      <td>23.901034</td>\n",
       "      <td>23.722318</td>\n",
       "    </tr>\n",
       "    <tr>\n",
       "      <th>10</th>\n",
       "      <td>2016</td>\n",
       "      <td>24.076625</td>\n",
       "      <td>23.831711</td>\n",
       "    </tr>\n",
       "    <tr>\n",
       "      <th>11</th>\n",
       "      <td>2017</td>\n",
       "      <td>23.380085</td>\n",
       "      <td>23.820123</td>\n",
       "    </tr>\n",
       "    <tr>\n",
       "      <th>12</th>\n",
       "      <td>2018</td>\n",
       "      <td>23.872586</td>\n",
       "      <td>23.819244</td>\n",
       "    </tr>\n",
       "    <tr>\n",
       "      <th>13</th>\n",
       "      <td>2019</td>\n",
       "      <td>24.275705</td>\n",
       "      <td>23.901207</td>\n",
       "    </tr>\n",
       "    <tr>\n",
       "      <th>14</th>\n",
       "      <td>2020</td>\n",
       "      <td>24.187113</td>\n",
       "      <td>23.958423</td>\n",
       "    </tr>\n",
       "    <tr>\n",
       "      <th>15</th>\n",
       "      <td>2021</td>\n",
       "      <td>24.135040</td>\n",
       "      <td>23.970106</td>\n",
       "    </tr>\n",
       "    <tr>\n",
       "      <th>16</th>\n",
       "      <td>2022</td>\n",
       "      <td>24.430297</td>\n",
       "      <td>24.180148</td>\n",
       "    </tr>\n",
       "    <tr>\n",
       "      <th>17</th>\n",
       "      <td>2023</td>\n",
       "      <td>23.873414</td>\n",
       "      <td>24.180314</td>\n",
       "    </tr>\n",
       "    <tr>\n",
       "      <th>18</th>\n",
       "      <td>2024</td>\n",
       "      <td>23.817290</td>\n",
       "      <td>24.088631</td>\n",
       "    </tr>\n",
       "  </tbody>\n",
       "</table>\n",
       "</div>"
      ],
      "text/plain": [
       "    year  standardLatitude  moving_avg\n",
       "0   2005         23.947178   23.947178\n",
       "1   2006         23.700963   23.824071\n",
       "2   2007         23.505170   23.717771\n",
       "3   2008         24.402720   23.889008\n",
       "4   2009         24.204079   23.952022\n",
       "5   2011         23.529660   23.868518\n",
       "6   2012         23.438028   23.815931\n",
       "7   2013         23.876981   23.890293\n",
       "8   2014         23.865890   23.782927\n",
       "9   2015         23.901034   23.722318\n",
       "10  2016         24.076625   23.831711\n",
       "11  2017         23.380085   23.820123\n",
       "12  2018         23.872586   23.819244\n",
       "13  2019         24.275705   23.901207\n",
       "14  2020         24.187113   23.958423\n",
       "15  2021         24.135040   23.970106\n",
       "16  2022         24.430297   24.180148\n",
       "17  2023         23.873414   24.180314\n",
       "18  2024         23.817290   24.088631"
      ]
     },
     "execution_count": 28,
     "metadata": {},
     "output_type": "execute_result"
    }
   ],
   "source": [
    "# 製作每五年的移動平均線\n",
    "avg_latitude['moving_avg'] = avg_latitude['standardLatitude'].rolling(window=5, min_periods=1).mean()\n",
    "avg_latitude"
   ]
  },
  {
   "cell_type": "code",
   "execution_count": 32,
   "id": "d4e23525",
   "metadata": {},
   "outputs": [],
   "source": [
    "avg_latitude.to_excel('烏魚五年平均觀測緯度.xlsx', index=False)"
   ]
  },
  {
   "cell_type": "code",
   "execution_count": 30,
   "id": "eb1d2c0a",
   "metadata": {},
   "outputs": [
    {
     "data": {
      "image/png": "[encoded data removed]",
      "text/plain": [
       "<Figure size 1500x800 with 1 Axes>"
      ]
     },
     "metadata": {},
     "output_type": "display_data"
    }
   ],
   "source": [
    "import matplotlib.pyplot as plt\n",
    "import seaborn as sns\n",
    "# 設置字體\n",
    "plt.rcParams['font.sans-serif'] = ['Arial Unicode MS']  # 指定用來正常顯示中文的字體\n",
    "plt.rcParams['axes.unicode_minus'] = False  # 解決保存圖像是負號'-'顯示為方塊的問題\n",
    "# 使用 seaborn 和 matplotlib 繪製移動平均線\n",
    "plt.figure(figsize=(15, 8))\n",
    "plt.gca().xaxis.set_major_locator(plt.MaxNLocator(integer=True))\n",
    "sns.lineplot(data=avg_latitude, x='year', y='moving_avg', marker='o')\n",
    "plt.title('烏魚被紀錄位置｜每五年移動平均緯度')\n",
    "plt.xlabel('年')\n",
    "plt.ylabel('平均被紀錄緯度')\n",
    "plt.grid(True)\n",
    "plt.show()"
   ]
  },
  {
   "cell_type": "code",
   "execution_count": null,
   "id": "88b1b391",
   "metadata": {},
   "outputs": [],
   "source": []
  },
  {
   "cell_type": "code",
   "execution_count": null,
   "id": "7ca1e25f",
   "metadata": {},
   "outputs": [],
   "source": [
    "df_subset.isna().sum()\n",
    "##先解決日期（if standardDate is null then  if event date is null then created else null ）、地理位置，再解決type（可用隻來取代na），localty可以暫時放棄，有經緯就好，"
   ]
  },
  {
   "cell_type": "code",
   "execution_count": null,
   "id": "d7164bb7",
   "metadata": {
    "scrolled": true
   },
   "outputs": [],
   "source": [
    "# 保存原始的 standardLatitude 列\n",
    "df_subset['original_standardLatitude'] = df_subset['standardLatitude']\n",
    "\n",
    "\n",
    "df_subset['standardLatitude'].value_counts()\n",
    "## 出現前三名皆為24.292＿＿，所有standard若為NA皆用24.29207取代"
   ]
  },
  {
   "cell_type": "code",
   "execution_count": null,
   "id": "44767e22",
   "metadata": {},
   "outputs": [],
   "source": [
    "# 替換缺失值\n",
    "df_subset['standardLatitude'].fillna(24.29207, inplace=True)\n",
    "# 檢查替換後的值出現次數\n",
    "value_counts = df_subset['standardLatitude'].value_counts()\n",
    "print(value_counts)"
   ]
  },
  {
   "cell_type": "code",
   "execution_count": null,
   "id": "8c2fab04",
   "metadata": {},
   "outputs": [],
   "source": [
    "# 保存原始的 standardLontitude 列\n",
    "df_subset['original_standardLongitude'] = df_subset['standardLongitude']"
   ]
  },
  {
   "cell_type": "code",
   "execution_count": null,
   "id": "89d28492",
   "metadata": {},
   "outputs": [],
   "source": [
    "df_subset['standardLongitude'].value_counts()\n",
    "##前2名為120.5116_ ，以120.51168來取代NA"
   ]
  },
  {
   "cell_type": "code",
   "execution_count": null,
   "id": "b71fa54c",
   "metadata": {},
   "outputs": [],
   "source": [
    "# 替換缺失值\n",
    "df_subset['standardLongitude'].fillna(120.51168, inplace=True)\n",
    "# 檢查替換後的值出現次數\n",
    "value_counts = df_subset['standardLongitude'].value_counts()\n",
    "print(value_counts)"
   ]
  },
  {
   "cell_type": "code",
   "execution_count": null,
   "id": "f9401000",
   "metadata": {},
   "outputs": [],
   "source": [
    "df_subset.isna().sum()\n",
    "##要用 eventdate 來替換 standard date 中的缺失值，如果 eventdate 也是缺失的，則使用 created date 來替換，"
   ]
  },
  {
   "cell_type": "code",
   "execution_count": null,
   "id": "b81a5625",
   "metadata": {},
   "outputs": [],
   "source": [
    "# 保存原始的 created\\standarddate/eventdate 列\n",
    "df_subset['original_created']=df_subset['created']\n",
    "df_subset['original_standardDate']=df_subset['standardDate']\n",
    "df_subset['original_eventDate']=df_subset['eventDate']"
   ]
  },
  {
   "cell_type": "code",
   "execution_count": null,
   "id": "860181db",
   "metadata": {},
   "outputs": [],
   "source": [
    "# 使用 errors='coerce' 將無法解析的值設置為 NaT\n",
    "df_subset['standardDate'] = pd.to_datetime(df_subset['standardDate'], errors='coerce')\n",
    "df_subset['eventDate'] = pd.to_datetime(df_subset['eventDate'], errors='coerce')\n",
    "df_subset['created'] = pd.to_datetime(df_subset['created'], errors='coerce')\n"
   ]
  },
  {
   "cell_type": "code",
   "execution_count": null,
   "id": "aa73eb9d",
   "metadata": {},
   "outputs": [],
   "source": [
    "# 使用 eventDate 替換 standardDate 中的缺失值\n",
    "df_subset['standardDate'].fillna(df_subset['eventDate'], inplace=True)\n",
    "\n",
    "# 使用 created 替換 standardDate 和 eventDate 都為缺失值的情況\n",
    "df_subset['standardDate'].fillna(df_subset['created'], inplace=True)\n"
   ]
  },
  {
   "cell_type": "code",
   "execution_count": null,
   "id": "5dbf7f7d",
   "metadata": {
    "scrolled": true
   },
   "outputs": [],
   "source": [
    "# 使用 eventDate 替換 standardDate 中的缺失值\n",
    "df_subset['standardDate'].fillna(df_subset['eventDate'], inplace=True)\n",
    "\n",
    "# 使用 created 替換 standardDate 和 eventDate 都為缺失值的情況\n",
    "df_subset['standardDate'].fillna(df_subset['created'], inplace=True)\n",
    "# 使用 created 替換 standardDate 和 eventDate 都為缺失值的情況\n",
    "df_subset['eventDate'].fillna(df_subset['created'], inplace=True)\n",
    "# 移除仍然包含 NaT 的行\n",
    "df_subset.dropna(subset=['standardDate'], inplace=True)\n"
   ]
  },
  {
   "cell_type": "code",
   "execution_count": null,
   "id": "40f630eb",
   "metadata": {},
   "outputs": [],
   "source": [
    "# 將數量是空值的接填上1\n",
    "df_subset=df_subset['standardOrganismQuantity'].fillna(1,inplace=True)"
   ]
  },
  {
   "cell_type": "code",
   "execution_count": null,
   "id": "67efc4dc",
   "metadata": {},
   "outputs": [],
   "source": []
  },
  {
   "cell_type": "code",
   "execution_count": null,
   "id": "3934eca3",
   "metadata": {},
   "outputs": [],
   "source": [
    "import matplotlib.pyplot as plt\n",
    "import seaborn as sns\n",
    "# 設置字體\n",
    "plt.rcParams['font.sans-serif'] = ['Arial Unicode MS']  # 指定用來正常顯示中文的字體\n",
    "plt.rcParams['axes.unicode_minus'] = False  # 解決保存圖像是負號'-'顯示為方塊的問題"
   ]
  },
  {
   "cell_type": "code",
   "execution_count": null,
   "id": "c8083325",
   "metadata": {},
   "outputs": [],
   "source": []
  },
  {
   "cell_type": "code",
   "execution_count": null,
   "id": "26a8e562",
   "metadata": {},
   "outputs": [],
   "source": [
    "df_subset.isna().sum()"
   ]
  },
  {
   "cell_type": "code",
   "execution_count": null,
   "id": "3f4b66f8",
   "metadata": {},
   "outputs": [],
   "source": [
    "df_subset['organismQuantityType']"
   ]
  },
  {
   "cell_type": "code",
   "execution_count": null,
   "id": "c308110e",
   "metadata": {},
   "outputs": [],
   "source": [
    "null_organism_quantity_type = df_subset[df_subset['organismQuantityType'].isna()]\n",
    "null_organism_quantity_type\n",
    "##檢查如果是NA值時，其他欄位長怎樣"
   ]
  },
  {
   "cell_type": "code",
   "execution_count": null,
   "id": "6a48db8e",
   "metadata": {},
   "outputs": [],
   "source": [
    "df_subset['organismQuantityType'].fillna('隻', inplace=True)"
   ]
  },
  {
   "cell_type": "code",
   "execution_count": null,
   "id": "78e5d1d2",
   "metadata": {},
   "outputs": [],
   "source": [
    "df_subset.isna().sum()"
   ]
  },
  {
   "cell_type": "code",
   "execution_count": null,
   "id": "c7559f06",
   "metadata": {},
   "outputs": [],
   "source": [
    "df_subset=df_subset[['id', 'created','standardDate', 'standardLatitude','standardLongitude', 'standardOrganismQuantity', 'eventDate','organismQuantityType','scientificName',\n",
    "        'common_name_c', 'alternative_name_c']]\n",
    "##drop local"
   ]
  },
  {
   "cell_type": "code",
   "execution_count": null,
   "id": "e240d6cb",
   "metadata": {},
   "outputs": [],
   "source": [
    "df_subset['standardOrganismQuantity'].fillna(1,inplace=True)"
   ]
  },
  {
   "cell_type": "code",
   "execution_count": null,
   "id": "bf25b0c1",
   "metadata": {},
   "outputs": [],
   "source": [
    "df_subset"
   ]
  },
  {
   "cell_type": "code",
   "execution_count": null,
   "id": "6cd0e9d6",
   "metadata": {},
   "outputs": [],
   "source": [
    "import matplotlib.pyplot as plt\n",
    "import seaborn as sns\n",
    "# 設置字體\n",
    "plt.rcParams['font.sans-serif'] = ['Arial Unicode MS']  # 指定用來正常顯示中文的字體\n",
    "plt.rcParams['axes.unicode_minus'] = False  # 解決保存圖像是負號'-'顯示為方塊的問題\n"
   ]
  },
  {
   "cell_type": "code",
   "execution_count": null,
   "id": "1a4e1916",
   "metadata": {},
   "outputs": [],
   "source": [
    "# 添加年份列\n",
    "df_subset['standardDate'] = pd.to_datetime(df_subset['standardDate'])\n",
    "df_subset['year'] = df_subset['standardDate'].dt.year\n",
    "#篩選出從2005年開始的資料\n",
    "df_subset = df_subset[df_subset['year'] >= 2005]\n",
    "\n",
    "# 按年份計算平均緯度\n",
    "avg_latitude_per_year = df_subset.groupby('year')['standardLatitude'].mean().reset_index()\n",
    "\n",
    "# 製作每五年的移動平均線\n",
    "avg_latitude_per_year['moving_avg'] = avg_latitude_per_year['standardLatitude'].rolling(window=5, min_periods=1).mean()\n",
    "\n",
    "# 使用 seaborn 和 matplotlib 繪製移動平均線\n",
    "plt.figure(figsize=(15, 8))\n",
    "plt.gca().xaxis.set_major_locator(plt.MaxNLocator(integer=True))\n",
    "sns.lineplot(data=avg_latitude_per_year, x='year', y='moving_avg', marker='o')\n",
    "plt.title('烏魚被紀錄位置｜每五年移動平均緯度')\n",
    "plt.xlabel('年')\n",
    "plt.ylabel('平均被紀錄緯度')\n",
    "plt.grid(True)\n",
    "plt.show()"
   ]
  },
  {
   "cell_type": "code",
   "execution_count": null,
   "id": "22f045a4",
   "metadata": {},
   "outputs": [],
   "source": [
    "##待處理\n"
   ]
  },
  {
   "cell_type": "code",
   "execution_count": null,
   "id": "42e80b72",
   "metadata": {},
   "outputs": [],
   "source": [
    "#1 手動解析特定格式的日期字符串\n",
    "# 先找出無法解析的日期字符串\n",
    "mask = df_subset['standardDate'].isna()\n",
    "unparsed_dates = df_subset.loc[mask, 'standardDate']\n"
   ]
  },
  {
   "cell_type": "code",
   "execution_count": null,
   "id": "1bf59961",
   "metadata": {},
   "outputs": [],
   "source": [
    "#1 逐步解析不同的日期格式\n",
    "for date_format in ['%Y/%m/%d 上午 %I:%M:%S']:\n",
    "    parsed_dates = pd.to_datetime(unparsed_dates, format=date_format, errors='coerce')\n",
    "    df_subset.loc[mask, 'standardDate'] = parsed_dates"
   ]
  },
  {
   "cell_type": "code",
   "execution_count": null,
   "id": "124fa8b8",
   "metadata": {},
   "outputs": [],
   "source": [
    "#2 處理特定格式的日期字符串（如果有需要）\n",
    "mask = df_subset['standardDate'].isna()\n",
    "df_subset.loc[mask, 'standardDate'] = pd.to_datetime(df_subset.loc[mask, 'standardDate'], format='%Y/%m/%d 上午 %I:%M:%S', errors='coerce')\n"
   ]
  }
 ],
 "metadata": {
  "kernelspec": {
   "display_name": "Python 3 (ipykernel)",
   "language": "python",
   "name": "python3"
  },
  "language_info": {
   "codemirror_mode": {
    "name": "ipython",
    "version": 3
   },
   "file_extension": ".py",
   "mimetype": "text/x-python",
   "name": "python",
   "nbconvert_exporter": "python",
   "pygments_lexer": "ipython3",
   "version": "3.11.4"
  }
 },
 "nbformat": 4,
 "nbformat_minor": 5
}
